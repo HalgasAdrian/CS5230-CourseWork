{
  "cells": [
    {
      "cell_type": "code",
      "source": [
        "//test\n",
        "\n",
        "\n",
        "//test2"
      ],
      "metadata": {
        "id": "TnHge5z0mmGC"
      },
      "id": "TnHge5z0mmGC",
      "execution_count": null,
      "outputs": []
    }
  ],
  "metadata": {
    "kernelspec": {
      "display_name": "Lab1Jack",
      "language": "python",
      "name": "python3"
    },
    "language_info": {
      "codemirror_mode": {
        "name": "ipython",
        "version": 3
      },
      "file_extension": ".py",
      "mimetype": "text/x-python",
      "name": "python",
      "nbconvert_exporter": "python",
      "pygments_lexer": "ipython3",
      "version": "3.10.15"
    },
    "colab": {
      "provenance": []
    }
  },
  "nbformat": 4,
  "nbformat_minor": 5
}