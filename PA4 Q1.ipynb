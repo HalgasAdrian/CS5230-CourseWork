{
  "cells": [
    {
      "cell_type": "code",
      "source": [
        "!wget -O dataset.zip 'https://lfs.aminer.cn/lab-datasets/citation/acm.v9.zip'\n"
      ],
      "metadata": {
        "colab": {
          "base_uri": "https://localhost:8080/"
        },
        "id": "TnHge5z0mmGC",
        "outputId": "238a466f-b403-4947-c35c-6fa704752b7e"
      },
      "id": "TnHge5z0mmGC",
      "execution_count": 1,
      "outputs": [
        {
          "output_type": "stream",
          "name": "stdout",
          "text": [
            "--2025-01-16 19:56:44--  https://lfs.aminer.cn/lab-datasets/citation/acm.v9.zip\n",
            "Resolving lfs.aminer.cn (lfs.aminer.cn)... 159.27.2.14\n",
            "Connecting to lfs.aminer.cn (lfs.aminer.cn)|159.27.2.14|:443... connected.\n",
            "HTTP request sent, awaiting response... 200 OK\n",
            "Could not parse String-Transport-Security header\n",
            "Length: 686542584 (655M) [application/zip]\n",
            "Saving to: ‘dataset.zip’\n",
            "\n",
            "dataset.zip         100%[===================>] 654.74M  10.3MB/s    in 67s     \n",
            "\n",
            "2025-01-16 19:57:52 (9.81 MB/s) - ‘dataset.zip’ saved [686542584/686542584]\n",
            "\n"
          ]
        }
      ]
    },
    {
      "cell_type": "code",
      "source": [
        "!unzip dataset.zip -d /content/dataset\n"
      ],
      "metadata": {
        "colab": {
          "base_uri": "https://localhost:8080/"
        },
        "id": "25h2C1QesAGJ",
        "outputId": "4d7dcd22-ecee-4fd6-9f1a-67331ffef916"
      },
      "id": "25h2C1QesAGJ",
      "execution_count": 2,
      "outputs": [
        {
          "output_type": "stream",
          "name": "stdout",
          "text": [
            "Archive:  dataset.zip\n",
            "  inflating: /content/dataset/acm.txt  \n"
          ]
        }
      ]
    },
    {
      "cell_type": "code",
      "source": [
        "import pandas as pd\n",
        "\n",
        "# Path to the dataset file\n",
        "file_path = '/content/dataset/acm.txt'\n",
        "\n",
        "# Lists to store parsed data\n",
        "titles = []\n",
        "authors = []\n",
        "years = []\n",
        "venues = []\n",
        "indices = []\n",
        "\n",
        "# Open and parse the file line by line\n",
        "with open(file_path, 'r') as file:\n",
        "    record = {}  # Temporary dictionary to store each record\n",
        "    for line in file:\n",
        "        line = line.strip()\n",
        "        if line.startswith(\"#*\"):\n",
        "            record['title'] = line[2:]  # Title\n",
        "        elif line.startswith(\"#@\"):\n",
        "            record['authors'] = line[2:]  # Authors\n",
        "        elif line.startswith(\"#t\"):\n",
        "            record['year'] = line[2:]  # Year\n",
        "        elif line.startswith(\"#c\"):\n",
        "            record['venue'] = line[2:]  # Venue\n",
        "        elif line.startswith(\"#index\"):\n",
        "            record['index'] = line[6:]  # Index\n",
        "        elif line == \"\":  # Empty line indicates end of a record\n",
        "            if record:  # If the record dictionary is not empty\n",
        "                titles.append(record.get('title', ''))\n",
        "                authors.append(record.get('authors', ''))\n",
        "                years.append(record.get('year', ''))\n",
        "                venues.append(record.get('venue', ''))\n",
        "                indices.append(record.get('index', ''))\n",
        "                record = {}  # Reset for the next record\n",
        "\n",
        "# Create a DataFrame from the lists\n",
        "df = pd.DataFrame({\n",
        "    'title': titles,\n",
        "    'authors': authors,\n",
        "    'year': years,\n",
        "    'venue': venues,\n",
        "    'index': indices\n",
        "})\n",
        "\n",
        "# Preview the first few rows\n",
        "print(df.head())\n"
      ],
      "metadata": {
        "colab": {
          "base_uri": "https://localhost:8080/"
        },
        "id": "WazAHpXbse9C",
        "outputId": "3c8e4939-a51a-4d1d-c73a-bda59a4167b8"
      },
      "id": "WazAHpXbse9C",
      "execution_count": 10,
      "outputs": [
        {
          "output_type": "stream",
          "name": "stdout",
          "text": [
            "                                               title  \\\n",
            "0  MOSFET table look-up models for circuit simula...   \n",
            "1  The verification of the protection mechanisms ...   \n",
            "2  Another view of functional and multivalued dep...   \n",
            "3     Entity-relationship diagrams which are in BCNF   \n",
            "4                          The computer comes of age   \n",
            "\n",
            "                                             authors  year  \\\n",
            "0                                                     1984   \n",
            "1                                   Virgil D. Gligor  1984   \n",
            "2                           M. Gyssens, J. Paredaens  1984   \n",
            "3  Sushil Jajodia, Peter A. Ng, Frederick N. Spri...  1984   \n",
            "4                                        Rene Moreau  1984   \n",
            "\n",
            "                                           venue index  \n",
            "0                  Integration, the VLSI Journal     1  \n",
            "1  International Journal of Parallel Programming     2  \n",
            "2  International Journal of Parallel Programming     3  \n",
            "3  International Journal of Parallel Programming     4  \n",
            "4                      The computer comes of age     5  \n"
          ]
        }
      ]
    },
    {
      "cell_type": "code",
      "source": [
        "import matplotlib.pyplot as plt\n",
        "from collections import defaultdict"
      ],
      "metadata": {
        "id": "KB862aTnvGJM"
      },
      "id": "KB862aTnvGJM",
      "execution_count": 11,
      "outputs": []
    },
    {
      "cell_type": "code",
      "source": [
        "# Number of distinct authors\n",
        "authors_set = set()\n",
        "df['authors'].str.split(',').dropna().apply(authors_set.update)  # Assuming authors are comma-separated\n",
        "num_authors = len(authors_set)\n",
        "print(f\"Number of distinct authors: {num_authors}\")\n",
        "\n",
        "# Number of distinct venues\n",
        "num_venues = df['venue'].nunique()\n",
        "print(f\"Number of distinct venues: {num_venues}\")\n",
        "\n",
        "# Number of distinct publications (based on unique titles)\n",
        "num_publications = df['title'].nunique()\n",
        "print(f\"Number of distinct publications: {num_publications}\")\n",
        "\n",
        "# Number of distinct references/citations\n",
        "# Note: Your dataset example doesn't include references field. Remove this if not applicable.\n",
        "if 'references' in df.columns:\n",
        "    references_set = set()\n",
        "    df['references'].dropna().str.split(';').apply(references_set.update)  # Assuming references are semicolon-separated\n",
        "    num_references = len(references_set)\n",
        "    print(f\"Number of distinct citations/references: {num_references}\")\n",
        "else:\n",
        "    print(\"References field not found in dataset.\")\n"
      ],
      "metadata": {
        "id": "lWUh793zvntx",
        "outputId": "459a5feb-914e-4de1-88e0-bd8d2833199e",
        "colab": {
          "base_uri": "https://localhost:8080/"
        }
      },
      "id": "lWUh793zvntx",
      "execution_count": 13,
      "outputs": [
        {
          "output_type": "stream",
          "name": "stdout",
          "text": [
            "Number of distinct authors: 2027009\n",
            "Number of distinct venues: 273330\n",
            "Number of distinct publications: 2183552\n",
            "References field not found in dataset.\n"
          ]
        }
      ]
    }
  ],
  "metadata": {
    "kernelspec": {
      "display_name": "Lab1Jack",
      "language": "python",
      "name": "python3"
    },
    "language_info": {
      "codemirror_mode": {
        "name": "ipython",
        "version": 3
      },
      "file_extension": ".py",
      "mimetype": "text/x-python",
      "name": "python",
      "nbconvert_exporter": "python",
      "pygments_lexer": "ipython3",
      "version": "3.10.15"
    },
    "colab": {
      "provenance": []
    }
  },
  "nbformat": 4,
  "nbformat_minor": 5
}