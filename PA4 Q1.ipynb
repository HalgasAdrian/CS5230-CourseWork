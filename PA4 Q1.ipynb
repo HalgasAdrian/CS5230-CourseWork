{
  "cells": [
    {
      "cell_type": "markdown",
      "source": [
        "**PROBLEM 1: Aminer : basic dataset analysis**"
      ],
      "metadata": {
        "id": "-a9Q9kL7cQ-0"
      },
      "id": "-a9Q9kL7cQ-0"
    },
    {
      "cell_type": "code",
      "source": [
        "!wget -O dataset.zip 'https://lfs.aminer.cn/lab-datasets/citation/acm.v9.zip'\n"
      ],
      "metadata": {
        "colab": {
          "base_uri": "https://localhost:8080/"
        },
        "id": "TnHge5z0mmGC",
        "outputId": "d6298e57-8601-4f3c-eccf-5ef7158cd6d4"
      },
      "id": "TnHge5z0mmGC",
      "execution_count": 1,
      "outputs": [
        {
          "output_type": "stream",
          "name": "stdout",
          "text": [
            "--2025-01-17 03:19:07--  https://lfs.aminer.cn/lab-datasets/citation/acm.v9.zip\n",
            "Resolving lfs.aminer.cn (lfs.aminer.cn)... 159.27.2.14\n",
            "Connecting to lfs.aminer.cn (lfs.aminer.cn)|159.27.2.14|:443... connected.\n",
            "HTTP request sent, awaiting response... 200 OK\n",
            "Could not parse String-Transport-Security header\n",
            "Length: 686542584 (655M) [application/zip]\n",
            "Saving to: ‘dataset.zip’\n",
            "\n",
            "dataset.zip         100%[===================>] 654.74M  9.82MB/s    in 67s     \n",
            "\n",
            "2025-01-17 03:20:15 (9.84 MB/s) - ‘dataset.zip’ saved [686542584/686542584]\n",
            "\n"
          ]
        }
      ]
    },
    {
      "cell_type": "code",
      "source": [
        "!unzip dataset.zip -d /content/dataset\n"
      ],
      "metadata": {
        "colab": {
          "base_uri": "https://localhost:8080/"
        },
        "id": "25h2C1QesAGJ",
        "outputId": "9198dee8-5e0d-40a4-c519-15e1b657717b"
      },
      "id": "25h2C1QesAGJ",
      "execution_count": 2,
      "outputs": [
        {
          "output_type": "stream",
          "name": "stdout",
          "text": [
            "Archive:  dataset.zip\n",
            "  inflating: /content/dataset/acm.txt  \n"
          ]
        }
      ]
    },
    {
      "cell_type": "markdown",
      "source": [
        "**A. Compute the number of distinct authors, publication venues, publications, and citations/references.**"
      ],
      "metadata": {
        "id": "2alIVxaOyZxA"
      },
      "id": "2alIVxaOyZxA"
    },
    {
      "cell_type": "code",
      "source": [
        "import pandas as pd\n",
        "\n",
        "# Path to the dataset file\n",
        "file_path = '/content/dataset/acm.txt'\n",
        "\n",
        "# Lists to store parsed data\n",
        "titles = []\n",
        "authors = []\n",
        "years = []\n",
        "venues = []\n",
        "indices = []\n",
        "references = []\n",
        "\n",
        "# Open and parse the file line by line\n",
        "with open(file_path, 'r') as file:\n",
        "    record = {'references': []}  # Add references field to each record\n",
        "    for line in file:\n",
        "        line = line.strip()\n",
        "        if line.startswith(\"#*\"):\n",
        "            record['title'] = line[2:]  # Title\n",
        "        elif line.startswith(\"#@\"):\n",
        "            record['authors'] = line[2:]  # Authors\n",
        "        elif line.startswith(\"#t\"):\n",
        "            record['year'] = line[2:]  # Year\n",
        "        elif line.startswith(\"#c\"):\n",
        "            record['venue'] = line[2:]  # Venue\n",
        "        elif line.startswith(\"#index\"):\n",
        "            record['index'] = line[6:]  # Index\n",
        "        elif line.startswith(\"#%\"):\n",
        "            # Append the reference (index of another publication) to the references list\n",
        "            reference = line[2:].strip()\n",
        "            if reference:\n",
        "                record['references'].append(reference)\n",
        "        elif line == \"\":\n",
        "            # End of a record, append to lists\n",
        "            if record:\n",
        "                titles.append(record.get('title', ''))\n",
        "                authors.append(record.get('authors', ''))\n",
        "                years.append(record.get('year', ''))\n",
        "                venues.append(record.get('venue', ''))\n",
        "                indices.append(record.get('index', ''))\n",
        "                references.append(record.get('references', []))\n",
        "                record = {'references': []}  # Reset for the next record\n",
        "\n",
        "# Create a DataFrame from the lists\n",
        "df = pd.DataFrame({\n",
        "    'title': titles,\n",
        "    'authors': authors,\n",
        "    'year': years,\n",
        "    'venue': venues,\n",
        "    'index': indices,\n",
        "    'references': references\n",
        "})"
      ],
      "metadata": {
        "id": "WazAHpXbse9C"
      },
      "id": "WazAHpXbse9C",
      "execution_count": 3,
      "outputs": []
    },
    {
      "cell_type": "code",
      "source": [
        "df.head()"
      ],
      "metadata": {
        "colab": {
          "base_uri": "https://localhost:8080/",
          "height": 310
        },
        "id": "ILRW7_d0ibok",
        "outputId": "38ed1c9e-327a-431f-c3d6-8caef6949f8b"
      },
      "id": "ILRW7_d0ibok",
      "execution_count": 4,
      "outputs": [
        {
          "output_type": "execute_result",
          "data": {
            "text/plain": [
              "                                               title  \\\n",
              "0  MOSFET table look-up models for circuit simula...   \n",
              "1  The verification of the protection mechanisms ...   \n",
              "2  Another view of functional and multivalued dep...   \n",
              "3     Entity-relationship diagrams which are in BCNF   \n",
              "4                          The computer comes of age   \n",
              "\n",
              "                                             authors  year  \\\n",
              "0                                                     1984   \n",
              "1                                   Virgil D. Gligor  1984   \n",
              "2                           M. Gyssens, J. Paredaens  1984   \n",
              "3  Sushil Jajodia, Peter A. Ng, Frederick N. Spri...  1984   \n",
              "4                                        Rene Moreau  1984   \n",
              "\n",
              "                                           venue index references  \n",
              "0                  Integration, the VLSI Journal     1         []  \n",
              "1  International Journal of Parallel Programming     2         []  \n",
              "2  International Journal of Parallel Programming     3         []  \n",
              "3  International Journal of Parallel Programming     4         []  \n",
              "4                      The computer comes of age     5         []  "
            ],
            "text/html": [
              "\n",
              "  <div id=\"df-b9ec7b34-45ca-40c8-b711-d9d7e5740f5a\" class=\"colab-df-container\">\n",
              "    <div>\n",
              "<style scoped>\n",
              "    .dataframe tbody tr th:only-of-type {\n",
              "        vertical-align: middle;\n",
              "    }\n",
              "\n",
              "    .dataframe tbody tr th {\n",
              "        vertical-align: top;\n",
              "    }\n",
              "\n",
              "    .dataframe thead th {\n",
              "        text-align: right;\n",
              "    }\n",
              "</style>\n",
              "<table border=\"1\" class=\"dataframe\">\n",
              "  <thead>\n",
              "    <tr style=\"text-align: right;\">\n",
              "      <th></th>\n",
              "      <th>title</th>\n",
              "      <th>authors</th>\n",
              "      <th>year</th>\n",
              "      <th>venue</th>\n",
              "      <th>index</th>\n",
              "      <th>references</th>\n",
              "    </tr>\n",
              "  </thead>\n",
              "  <tbody>\n",
              "    <tr>\n",
              "      <th>0</th>\n",
              "      <td>MOSFET table look-up models for circuit simula...</td>\n",
              "      <td></td>\n",
              "      <td>1984</td>\n",
              "      <td>Integration, the VLSI Journal</td>\n",
              "      <td>1</td>\n",
              "      <td>[]</td>\n",
              "    </tr>\n",
              "    <tr>\n",
              "      <th>1</th>\n",
              "      <td>The verification of the protection mechanisms ...</td>\n",
              "      <td>Virgil D. Gligor</td>\n",
              "      <td>1984</td>\n",
              "      <td>International Journal of Parallel Programming</td>\n",
              "      <td>2</td>\n",
              "      <td>[]</td>\n",
              "    </tr>\n",
              "    <tr>\n",
              "      <th>2</th>\n",
              "      <td>Another view of functional and multivalued dep...</td>\n",
              "      <td>M. Gyssens, J. Paredaens</td>\n",
              "      <td>1984</td>\n",
              "      <td>International Journal of Parallel Programming</td>\n",
              "      <td>3</td>\n",
              "      <td>[]</td>\n",
              "    </tr>\n",
              "    <tr>\n",
              "      <th>3</th>\n",
              "      <td>Entity-relationship diagrams which are in BCNF</td>\n",
              "      <td>Sushil Jajodia, Peter A. Ng, Frederick N. Spri...</td>\n",
              "      <td>1984</td>\n",
              "      <td>International Journal of Parallel Programming</td>\n",
              "      <td>4</td>\n",
              "      <td>[]</td>\n",
              "    </tr>\n",
              "    <tr>\n",
              "      <th>4</th>\n",
              "      <td>The computer comes of age</td>\n",
              "      <td>Rene Moreau</td>\n",
              "      <td>1984</td>\n",
              "      <td>The computer comes of age</td>\n",
              "      <td>5</td>\n",
              "      <td>[]</td>\n",
              "    </tr>\n",
              "  </tbody>\n",
              "</table>\n",
              "</div>\n",
              "    <div class=\"colab-df-buttons\">\n",
              "\n",
              "  <div class=\"colab-df-container\">\n",
              "    <button class=\"colab-df-convert\" onclick=\"convertToInteractive('df-b9ec7b34-45ca-40c8-b711-d9d7e5740f5a')\"\n",
              "            title=\"Convert this dataframe to an interactive table.\"\n",
              "            style=\"display:none;\">\n",
              "\n",
              "  <svg xmlns=\"http://www.w3.org/2000/svg\" height=\"24px\" viewBox=\"0 -960 960 960\">\n",
              "    <path d=\"M120-120v-720h720v720H120Zm60-500h600v-160H180v160Zm220 220h160v-160H400v160Zm0 220h160v-160H400v160ZM180-400h160v-160H180v160Zm440 0h160v-160H620v160ZM180-180h160v-160H180v160Zm440 0h160v-160H620v160Z\"/>\n",
              "  </svg>\n",
              "    </button>\n",
              "\n",
              "  <style>\n",
              "    .colab-df-container {\n",
              "      display:flex;\n",
              "      gap: 12px;\n",
              "    }\n",
              "\n",
              "    .colab-df-convert {\n",
              "      background-color: #E8F0FE;\n",
              "      border: none;\n",
              "      border-radius: 50%;\n",
              "      cursor: pointer;\n",
              "      display: none;\n",
              "      fill: #1967D2;\n",
              "      height: 32px;\n",
              "      padding: 0 0 0 0;\n",
              "      width: 32px;\n",
              "    }\n",
              "\n",
              "    .colab-df-convert:hover {\n",
              "      background-color: #E2EBFA;\n",
              "      box-shadow: 0px 1px 2px rgba(60, 64, 67, 0.3), 0px 1px 3px 1px rgba(60, 64, 67, 0.15);\n",
              "      fill: #174EA6;\n",
              "    }\n",
              "\n",
              "    .colab-df-buttons div {\n",
              "      margin-bottom: 4px;\n",
              "    }\n",
              "\n",
              "    [theme=dark] .colab-df-convert {\n",
              "      background-color: #3B4455;\n",
              "      fill: #D2E3FC;\n",
              "    }\n",
              "\n",
              "    [theme=dark] .colab-df-convert:hover {\n",
              "      background-color: #434B5C;\n",
              "      box-shadow: 0px 1px 3px 1px rgba(0, 0, 0, 0.15);\n",
              "      filter: drop-shadow(0px 1px 2px rgba(0, 0, 0, 0.3));\n",
              "      fill: #FFFFFF;\n",
              "    }\n",
              "  </style>\n",
              "\n",
              "    <script>\n",
              "      const buttonEl =\n",
              "        document.querySelector('#df-b9ec7b34-45ca-40c8-b711-d9d7e5740f5a button.colab-df-convert');\n",
              "      buttonEl.style.display =\n",
              "        google.colab.kernel.accessAllowed ? 'block' : 'none';\n",
              "\n",
              "      async function convertToInteractive(key) {\n",
              "        const element = document.querySelector('#df-b9ec7b34-45ca-40c8-b711-d9d7e5740f5a');\n",
              "        const dataTable =\n",
              "          await google.colab.kernel.invokeFunction('convertToInteractive',\n",
              "                                                    [key], {});\n",
              "        if (!dataTable) return;\n",
              "\n",
              "        const docLinkHtml = 'Like what you see? Visit the ' +\n",
              "          '<a target=\"_blank\" href=https://colab.research.google.com/notebooks/data_table.ipynb>data table notebook</a>'\n",
              "          + ' to learn more about interactive tables.';\n",
              "        element.innerHTML = '';\n",
              "        dataTable['output_type'] = 'display_data';\n",
              "        await google.colab.output.renderOutput(dataTable, element);\n",
              "        const docLink = document.createElement('div');\n",
              "        docLink.innerHTML = docLinkHtml;\n",
              "        element.appendChild(docLink);\n",
              "      }\n",
              "    </script>\n",
              "  </div>\n",
              "\n",
              "\n",
              "<div id=\"df-0fa649a2-9449-4b64-81d2-a9846b084186\">\n",
              "  <button class=\"colab-df-quickchart\" onclick=\"quickchart('df-0fa649a2-9449-4b64-81d2-a9846b084186')\"\n",
              "            title=\"Suggest charts\"\n",
              "            style=\"display:none;\">\n",
              "\n",
              "<svg xmlns=\"http://www.w3.org/2000/svg\" height=\"24px\"viewBox=\"0 0 24 24\"\n",
              "     width=\"24px\">\n",
              "    <g>\n",
              "        <path d=\"M19 3H5c-1.1 0-2 .9-2 2v14c0 1.1.9 2 2 2h14c1.1 0 2-.9 2-2V5c0-1.1-.9-2-2-2zM9 17H7v-7h2v7zm4 0h-2V7h2v10zm4 0h-2v-4h2v4z\"/>\n",
              "    </g>\n",
              "</svg>\n",
              "  </button>\n",
              "\n",
              "<style>\n",
              "  .colab-df-quickchart {\n",
              "      --bg-color: #E8F0FE;\n",
              "      --fill-color: #1967D2;\n",
              "      --hover-bg-color: #E2EBFA;\n",
              "      --hover-fill-color: #174EA6;\n",
              "      --disabled-fill-color: #AAA;\n",
              "      --disabled-bg-color: #DDD;\n",
              "  }\n",
              "\n",
              "  [theme=dark] .colab-df-quickchart {\n",
              "      --bg-color: #3B4455;\n",
              "      --fill-color: #D2E3FC;\n",
              "      --hover-bg-color: #434B5C;\n",
              "      --hover-fill-color: #FFFFFF;\n",
              "      --disabled-bg-color: #3B4455;\n",
              "      --disabled-fill-color: #666;\n",
              "  }\n",
              "\n",
              "  .colab-df-quickchart {\n",
              "    background-color: var(--bg-color);\n",
              "    border: none;\n",
              "    border-radius: 50%;\n",
              "    cursor: pointer;\n",
              "    display: none;\n",
              "    fill: var(--fill-color);\n",
              "    height: 32px;\n",
              "    padding: 0;\n",
              "    width: 32px;\n",
              "  }\n",
              "\n",
              "  .colab-df-quickchart:hover {\n",
              "    background-color: var(--hover-bg-color);\n",
              "    box-shadow: 0 1px 2px rgba(60, 64, 67, 0.3), 0 1px 3px 1px rgba(60, 64, 67, 0.15);\n",
              "    fill: var(--button-hover-fill-color);\n",
              "  }\n",
              "\n",
              "  .colab-df-quickchart-complete:disabled,\n",
              "  .colab-df-quickchart-complete:disabled:hover {\n",
              "    background-color: var(--disabled-bg-color);\n",
              "    fill: var(--disabled-fill-color);\n",
              "    box-shadow: none;\n",
              "  }\n",
              "\n",
              "  .colab-df-spinner {\n",
              "    border: 2px solid var(--fill-color);\n",
              "    border-color: transparent;\n",
              "    border-bottom-color: var(--fill-color);\n",
              "    animation:\n",
              "      spin 1s steps(1) infinite;\n",
              "  }\n",
              "\n",
              "  @keyframes spin {\n",
              "    0% {\n",
              "      border-color: transparent;\n",
              "      border-bottom-color: var(--fill-color);\n",
              "      border-left-color: var(--fill-color);\n",
              "    }\n",
              "    20% {\n",
              "      border-color: transparent;\n",
              "      border-left-color: var(--fill-color);\n",
              "      border-top-color: var(--fill-color);\n",
              "    }\n",
              "    30% {\n",
              "      border-color: transparent;\n",
              "      border-left-color: var(--fill-color);\n",
              "      border-top-color: var(--fill-color);\n",
              "      border-right-color: var(--fill-color);\n",
              "    }\n",
              "    40% {\n",
              "      border-color: transparent;\n",
              "      border-right-color: var(--fill-color);\n",
              "      border-top-color: var(--fill-color);\n",
              "    }\n",
              "    60% {\n",
              "      border-color: transparent;\n",
              "      border-right-color: var(--fill-color);\n",
              "    }\n",
              "    80% {\n",
              "      border-color: transparent;\n",
              "      border-right-color: var(--fill-color);\n",
              "      border-bottom-color: var(--fill-color);\n",
              "    }\n",
              "    90% {\n",
              "      border-color: transparent;\n",
              "      border-bottom-color: var(--fill-color);\n",
              "    }\n",
              "  }\n",
              "</style>\n",
              "\n",
              "  <script>\n",
              "    async function quickchart(key) {\n",
              "      const quickchartButtonEl =\n",
              "        document.querySelector('#' + key + ' button');\n",
              "      quickchartButtonEl.disabled = true;  // To prevent multiple clicks.\n",
              "      quickchartButtonEl.classList.add('colab-df-spinner');\n",
              "      try {\n",
              "        const charts = await google.colab.kernel.invokeFunction(\n",
              "            'suggestCharts', [key], {});\n",
              "      } catch (error) {\n",
              "        console.error('Error during call to suggestCharts:', error);\n",
              "      }\n",
              "      quickchartButtonEl.classList.remove('colab-df-spinner');\n",
              "      quickchartButtonEl.classList.add('colab-df-quickchart-complete');\n",
              "    }\n",
              "    (() => {\n",
              "      let quickchartButtonEl =\n",
              "        document.querySelector('#df-0fa649a2-9449-4b64-81d2-a9846b084186 button');\n",
              "      quickchartButtonEl.style.display =\n",
              "        google.colab.kernel.accessAllowed ? 'block' : 'none';\n",
              "    })();\n",
              "  </script>\n",
              "</div>\n",
              "\n",
              "    </div>\n",
              "  </div>\n"
            ],
            "application/vnd.google.colaboratory.intrinsic+json": {
              "type": "dataframe",
              "variable_name": "df"
            }
          },
          "metadata": {},
          "execution_count": 4
        }
      ]
    },
    {
      "cell_type": "code",
      "source": [
        "import matplotlib.pyplot as plt\n",
        "from collections import defaultdict"
      ],
      "metadata": {
        "id": "KB862aTnvGJM"
      },
      "id": "KB862aTnvGJM",
      "execution_count": 5,
      "outputs": []
    },
    {
      "cell_type": "code",
      "source": [
        "# Number of distinct authors\n",
        "authors_set = set()\n",
        "df['authors'].str.split(',').dropna().apply(authors_set.update)\n",
        "num_authors = len(authors_set)\n",
        "print(f\"Number of distinct authors: {num_authors}\")\n",
        "\n",
        "# Number of distinct venues\n",
        "num_venues = df['venue'].nunique()\n",
        "print(f\"Number of distinct venues: {num_venues}\")\n",
        "\n",
        "# Number of distinct publications (based on unique titles)\n",
        "num_publications = df['title'].nunique()\n",
        "print(f\"Number of distinct publications: {num_publications}\")\n",
        "\n",
        "# Note: Dataset example doesn't include references field."
      ],
      "metadata": {
        "colab": {
          "base_uri": "https://localhost:8080/"
        },
        "id": "lWUh793zvntx",
        "outputId": "e35baf3c-afc9-4980-c050-ece7dd815929"
      },
      "id": "lWUh793zvntx",
      "execution_count": 6,
      "outputs": [
        {
          "output_type": "stream",
          "name": "stdout",
          "text": [
            "Number of distinct authors: 2027009\n",
            "Number of distinct venues: 273330\n",
            "Number of distinct publications: 2183552\n"
          ]
        }
      ]
    },
    {
      "cell_type": "markdown",
      "source": [
        "**B. Are these numbers likely to be accurate? As an example look up all the publications venue names associated with the conference “Principles and Practice of Knowledge Discovery in Databases” – what do you notice?**\n"
      ],
      "metadata": {
        "id": "ED5zKUJtyrvQ"
      },
      "id": "ED5zKUJtyrvQ"
    },
    {
      "cell_type": "code",
      "source": [
        "# Filter the dataset for publications associated with the specified conference\n",
        "conference_name = \"Principles and Practice of Knowledge Discovery in Databases\"\n",
        "\n",
        "# Using case-insensitive matching\n",
        "ppkdd_venues = df[df['venue'].str.contains(conference_name, case=False, na=False)]\n",
        "\n",
        "unique_ppkdd_venues = ppkdd_venues['venue'].unique()\n",
        "\n",
        "print(\"Unique venue names associated with 'Principles and Practice of Knowledge Discovery in Databases':\\n\")\n",
        "for venue in unique_ppkdd_venues:\n",
        "    print(venue)\n",
        "\n",
        "# Count the number of occurrences for each venue name\n",
        "venue_counts = ppkdd_venues['venue'].value_counts()\n",
        "\n",
        "print(\"\\nCounts of publications per venue name:\\n\")\n",
        "print(venue_counts)\n"
      ],
      "metadata": {
        "id": "251bjQwpyNtY",
        "outputId": "635fd105-54b3-456f-f880-18c37748fe74",
        "colab": {
          "base_uri": "https://localhost:8080/"
        }
      },
      "id": "251bjQwpyNtY",
      "execution_count": 7,
      "outputs": [
        {
          "output_type": "stream",
          "name": "stdout",
          "text": [
            "Unique venue names associated with 'Principles and Practice of Knowledge Discovery in Databases':\n",
            "\n",
            "PKDD '04 Proceedings of the 8th European Conference on Principles and Practice of Knowledge Discovery in Databases\n",
            "Knowledge Discovery in Databases: PKDD 2006: 10th European Conference on Principles and Practice of Knowledge Discovery in Databases, Berlin, Germany, September ... (Lecture Notes in Computer Science)\n",
            "Knowledge Discovery in Databases: PKDD 2005: 9th European Conference on Principles and Practice of Knowledge Discovery in Databases, Porto, Portugal, October ... / Lecture Notes in Artificial Intelligence)\n",
            "PKDD 2007 Proceedings of the 11th European conference on Principles and Practice of Knowledge Discovery in Databases\n",
            "PKDD'05 Proceedings of the 9th European conference on Principles and Practice of Knowledge Discovery in Databases\n",
            "\n",
            "Counts of publications per venue name:\n",
            "\n",
            "venue\n",
            "PKDD'05 Proceedings of the 9th European conference on Principles and Practice of Knowledge Discovery in Databases                                                                                                77\n",
            "PKDD 2007 Proceedings of the 11th European conference on Principles and Practice of Knowledge Discovery in Databases                                                                                             68\n",
            "PKDD '04 Proceedings of the 8th European Conference on Principles and Practice of Knowledge Discovery in Databases                                                                                               65\n",
            "Knowledge Discovery in Databases: PKDD 2006: 10th European Conference on Principles and Practice of Knowledge Discovery in Databases, Berlin, Germany, September ... (Lecture Notes in Computer Science)          1\n",
            "Knowledge Discovery in Databases: PKDD 2005: 9th European Conference on Principles and Practice of Knowledge Discovery in Databases, Porto, Portugal, October ... / Lecture Notes in Artificial Intelligence)     1\n",
            "Name: count, dtype: int64\n"
          ]
        }
      ]
    },
    {
      "cell_type": "markdown",
      "source": [
        "It appears as though we have some inconsistent vanue naming conventions, some of our years are abbreviated like PKDD '04 and PKDD 2007.\n",
        "\n",
        "We also have an inflated count of unique venues. This is because each variation is counted as a distinct venue, causing the inflation.\n"
      ],
      "metadata": {
        "id": "Gz3spT8DzP4T"
      },
      "id": "Gz3spT8DzP4T"
    },
    {
      "cell_type": "markdown",
      "source": [
        "**C. For each author, construct the list of publications. Plot a histogram of the number of publications per author (use a logarithmic scale on the y axis)**"
      ],
      "metadata": {
        "id": "Vo3KLg0hznLY"
      },
      "id": "Vo3KLg0hznLY"
    },
    {
      "cell_type": "code",
      "source": [
        "# Create a dictionary to store publications for each author\n",
        "author_publications = defaultdict(list)\n",
        "\n",
        "# Populate the dictionary\n",
        "for _, row in df.iterrows():\n",
        "    # Split authors by comma and strip whitespace, filter out empty strings\n",
        "    authors = [author.strip() for author in row['authors'].split(',') if author.strip()]\n",
        "    title = row['title']\n",
        "    for author in authors:\n",
        "        author_publications[author].append(title)\n",
        "\n",
        "print(\"Sample of authors and their publication counts (after cleaning):\")\n",
        "for author, publications in list(author_publications.items())[:15]:\n",
        "    print(f\"Author: {author}, Number of Publications: {len(publications)}\")\n"
      ],
      "metadata": {
        "id": "UetLklFwzmif",
        "outputId": "8def32ef-391b-4c61-b7ef-b8fd7a153bae",
        "colab": {
          "base_uri": "https://localhost:8080/"
        }
      },
      "id": "UetLklFwzmif",
      "execution_count": 8,
      "outputs": [
        {
          "output_type": "stream",
          "name": "stdout",
          "text": [
            "Sample of authors and their publication counts (after cleaning):\n",
            "Author: Virgil D. Gligor, Number of Publications: 68\n",
            "Author: M. Gyssens, Number of Publications: 7\n",
            "Author: J. Paredaens, Number of Publications: 18\n",
            "Author: Sushil Jajodia, Number of Publications: 418\n",
            "Author: Peter A. Ng, Number of Publications: 36\n",
            "Author: Frederick N. Springsteel, Number of Publications: 8\n",
            "Author: Rene Moreau, Number of Publications: 1\n",
            "Author: A. G. Akritas, Number of Publications: 4\n",
            "Author: S. S. Lyengar, Number of Publications: 2\n",
            "Author: A. A. Rampuria, Number of Publications: 1\n",
            "Author: C. C. Chang, Number of Publications: 56\n",
            "Author: M. W. Du, Number of Publications: 9\n",
            "Author: R. C. T. Lee, Number of Publications: 59\n",
            "Author: David Haussler, Number of Publications: 102\n",
            "Author: Hans Röck, Number of Publications: 2\n"
          ]
        }
      ]
    },
    {
      "cell_type": "code",
      "source": [
        "# List of publication counts for each author\n",
        "publication_counts = [len(publications) for publications in author_publications.values()]"
      ],
      "metadata": {
        "id": "g6NCkHsm4eLi"
      },
      "id": "g6NCkHsm4eLi",
      "execution_count": 9,
      "outputs": []
    },
    {
      "cell_type": "code",
      "source": [
        "# Plot the histogram\n",
        "plt.figure(figsize=(10, 6))\n",
        "plt.hist(publication_counts, bins=50, log=True)\n",
        "plt.xlabel('Number of Publications per Author')\n",
        "plt.ylabel('Number of Authors (log scale)')\n",
        "plt.title('Histogram of Publications per Author')\n",
        "plt.grid(True)\n",
        "plt.show()"
      ],
      "metadata": {
        "id": "_YMGFlvA4fLl",
        "outputId": "d394c04b-9a8a-494f-fda8-9ae8f6d58fa9",
        "colab": {
          "base_uri": "https://localhost:8080/",
          "height": 526
        }
      },
      "id": "_YMGFlvA4fLl",
      "execution_count": 10,
      "outputs": [
        {
          "output_type": "display_data",
          "data": {
            "text/plain": [
              "<Figure size 1000x600 with 1 Axes>"
            ],
            "image/png": "[encoded data removed]"
          },
          "metadata": {}
        }
      ]
    },
    {
      "cell_type": "markdown",
      "source": [
        "**D. Calculate the mean and standard deviation of the number of publications per author. Also calculate the Q1 (1st quartile14), Q2 (2nd quartile, or median) and Q3 (3rd quartile) values. Compare the median to the mean and explain the difference between the two values based on the standard deviation and the 1st and 3rd quartiles.**"
      ],
      "metadata": {
        "id": "bX0G79os7CUV"
      },
      "id": "bX0G79os7CUV"
    },
    {
      "cell_type": "code",
      "source": [
        "import numpy as np\n",
        "\n",
        "# Calculate statistics\n",
        "mean_publications = np.mean(publication_counts)\n",
        "std_dev_publications = np.std(publication_counts)\n",
        "q1 = np.percentile(publication_counts, 25)  # 1st quartile (25th percentile)\n",
        "median_publications = np.median(publication_counts)  # 2nd quartile (50th percentile)\n",
        "q3 = np.percentile(publication_counts, 75)  # 3rd quartile (75th percentile)\n",
        "\n",
        "# Print results\n",
        "print(f\"Mean number of publications per author: {mean_publications:.2f}\")\n",
        "print(f\"Standard deviation: {std_dev_publications:.2f}\")\n",
        "print(f\"1st Quartile (Q1): {q1}\")\n",
        "print(f\"Median (Q2): {median_publications}\")\n",
        "print(f\"3rd Quartile (Q3): {q3}\")\n"
      ],
      "metadata": {
        "id": "qH3Njac67E7W",
        "outputId": "6542214f-d84d-4669-8d91-43ddbcdae5ad",
        "colab": {
          "base_uri": "https://localhost:8080/"
        }
      },
      "id": "qH3Njac67E7W",
      "execution_count": 11,
      "outputs": [
        {
          "output_type": "stream",
          "name": "stdout",
          "text": [
            "Mean number of publications per author: 3.46\n",
            "Standard deviation: 12.77\n",
            "1st Quartile (Q1): 1.0\n",
            "Median (Q2): 1.0\n",
            "3rd Quartile (Q3): 3.0\n"
          ]
        }
      ]
    },
    {
      "cell_type": "markdown",
      "source": [
        "The mean represents the average number of publications per author. While the median represents the middle value when the number of publications is sorted.\n",
        "\n",
        "Interpreting this information lets us know that:\n",
        "The mean 3.46 is slightly higher than our median of 1.0, this indicates a right-skewed distribution. This means that most authors have very few publications, a small number of authors have significantly more publications, raising our mean.\n",
        "\n",
        "With our standard deviation of 12.77 being much larger than the mean, this shows us that there is a high variability in the number of publications per author. This reinforces the claim above that a small amount of authors disproportionally dominates the high publication counts.\n",
        "\n",
        "Quartiles:\n",
        "Q1 - 25% of authors only have 1 publication or lower.\n",
        "Median Q2 - 50% of authors have 1 publication of lower.\n",
        "Q3 - 75% of authors have 3 publications or fewer.\n",
        "Interquartile range = Q3 - Q1 = 3.0 - 1.0 - 2.0. Shows us that the majority of authors have publication counts in a lower range (1-3 publications).\n",
        "\n"
      ],
      "metadata": {
        "id": "xM96RhzKl1d_"
      },
      "id": "xM96RhzKl1d_"
    },
    {
      "cell_type": "markdown",
      "source": [
        "**E. Now plot a histogram of the number of publications per venue, as well as calculate the mean, standard deviation, median, Q1, and Q3 values. What is the venue with the largest number of publications in the dataset?**"
      ],
      "metadata": {
        "id": "-ScMRvg17U7A"
      },
      "id": "-ScMRvg17U7A"
    },
    {
      "cell_type": "code",
      "source": [
        "# Calculate the number of publications per venue\n",
        "venue_publication_counts = df['venue'].value_counts()\n",
        "\n",
        "# Display the venue with the largest number of publications\n",
        "most_popular_venue = venue_publication_counts.idxmax()\n",
        "most_publications = venue_publication_counts.max()\n",
        "\n",
        "print(f\"Venue with the largest number of publications: {most_popular_venue}\")\n",
        "print(f\"Number of publications in {most_popular_venue}: {most_publications}\")\n"
      ],
      "metadata": {
        "id": "YUJgDIEu7VQc",
        "outputId": "5592184d-9751-4d03-805a-cb0ad63f0595",
        "colab": {
          "base_uri": "https://localhost:8080/"
        }
      },
      "id": "YUJgDIEu7VQc",
      "execution_count": 12,
      "outputs": [
        {
          "output_type": "stream",
          "name": "stdout",
          "text": [
            "Venue with the largest number of publications: IEEE Transactions on Information Theory\n",
            "Number of publications in IEEE Transactions on Information Theory: 12754\n"
          ]
        }
      ]
    },
    {
      "cell_type": "code",
      "source": [
        "import numpy as np\n",
        "\n",
        "# Convert counts to a list\n",
        "venue_counts = venue_publication_counts.values\n",
        "\n",
        "# Calculate statistics\n",
        "mean_venue_publications = np.mean(venue_counts)\n",
        "std_dev_venue_publications = np.std(venue_counts)\n",
        "median_venue_publications = np.median(venue_counts)\n",
        "q1_venue_publications = np.percentile(venue_counts, 25)\n",
        "q3_venue_publications = np.percentile(venue_counts, 75)\n",
        "\n",
        "# Print results\n",
        "print(f\"Mean number of publications per venue: {mean_venue_publications:.2f}\")\n",
        "print(f\"Standard deviation: {std_dev_venue_publications:.2f}\")\n",
        "print(f\"1st Quartile (Q1): {q1_venue_publications}\")\n",
        "print(f\"Median (Q2): {median_venue_publications}\")\n",
        "print(f\"3rd Quartile (Q3): {q3_venue_publications}\")\n"
      ],
      "metadata": {
        "id": "10Pr1Bpo7hCt",
        "outputId": "3a9d02da-6563-4ba2-9fb9-3d43bfa644fd",
        "colab": {
          "base_uri": "https://localhost:8080/"
        }
      },
      "id": "10Pr1Bpo7hCt",
      "execution_count": 13,
      "outputs": [
        {
          "output_type": "stream",
          "name": "stdout",
          "text": [
            "Mean number of publications per venue: 8.73\n",
            "Standard deviation: 106.80\n",
            "1st Quartile (Q1): 1.0\n",
            "Median (Q2): 1.0\n",
            "3rd Quartile (Q3): 1.0\n"
          ]
        }
      ]
    },
    {
      "cell_type": "code",
      "source": [
        "import matplotlib.pyplot as plt\n",
        "\n",
        "# Plot the histogram\n",
        "plt.figure(figsize=(10, 6))\n",
        "plt.hist(venue_counts, bins=50, log=True)\n",
        "plt.xlabel('Number of Publications per Venue')\n",
        "plt.ylabel('Number of Venues (log scale)')\n",
        "plt.title('Histogram of Publications per Venue')\n",
        "plt.grid(True)\n",
        "plt.show()\n"
      ],
      "metadata": {
        "id": "r6dmRHdY7irW",
        "outputId": "7e5a5276-36f1-4ae1-dd07-f3632fc55c18",
        "colab": {
          "base_uri": "https://localhost:8080/",
          "height": 526
        }
      },
      "id": "r6dmRHdY7irW",
      "execution_count": 14,
      "outputs": [
        {
          "output_type": "display_data",
          "data": {
            "text/plain": [
              "<Figure size 1000x600 with 1 Axes>"
            ],
            "image/png": "[encoded data removed]"
          },
          "metadata": {}
        }
      ]
    },
    {
      "cell_type": "markdown",
      "source": [
        "**F. Plot a histogram of the number of references (number of publications a publication refers to) and citations (number of publications referring to a publication) per publication. What is the publication with the largest number of references? What is the publication with the largest number of citations? Do these make sense?**"
      ],
      "metadata": {
        "id": "44pg-1sq7pJd"
      },
      "id": "44pg-1sq7pJd"
    },
    {
      "cell_type": "code",
      "source": [
        "# Calculate the number of references per publication\n",
        "df['num_references'] = df['references'].apply(len)\n",
        "\n",
        "# Find the publication with the largest number of references\n",
        "publication_with_most_references = df.loc[df['num_references'].idxmax()]\n",
        "print(\"Publication with the largest number of references:\")\n",
        "print(f\"Title: {publication_with_most_references['title']}\")\n",
        "print(f\"Number of References: {publication_with_most_references['num_references']}\")"
      ],
      "metadata": {
        "id": "GPmyQbAkuwxj",
        "colab": {
          "base_uri": "https://localhost:8080/"
        },
        "outputId": "a0c9c1a2-23f1-44d2-d487-9082fe42523b"
      },
      "id": "GPmyQbAkuwxj",
      "execution_count": 15,
      "outputs": [
        {
          "output_type": "stream",
          "name": "stdout",
          "text": [
            "Publication with the largest number of references:\n",
            "Title: Proceedings of the Twenty-Fourth ACM Symposium on Operating Systems Principles\n",
            "Number of References: 809\n"
          ]
        }
      ]
    },
    {
      "cell_type": "code",
      "source": [
        "from itertools import chain\n",
        "from collections import Counter\n",
        "\n",
        "# Ensure references are lists\n",
        "df['references'] = df['references'].apply(lambda x: x if isinstance(x, list) else [])\n",
        "\n",
        "# Efficiently flatten all references\n",
        "all_references = chain.from_iterable(df['references'])\n",
        "\n",
        "# Count citations for each publication index\n",
        "citation_counts = Counter(all_references)\n",
        "\n",
        "# Ensure index column is string for consistency\n",
        "df['index'] = df['index'].astype(str)\n",
        "\n",
        "# Add citation counts to the DataFrame\n",
        "df['num_citations'] = df['index'].apply(lambda x: citation_counts.get(x, 0))\n",
        "\n",
        "# Find the publication with the largest number of citations\n",
        "publication_with_most_citations = df.loc[df['num_citations'].idxmax()]\n",
        "print(\"\\nPublication with the largest number of citations:\")\n",
        "print(f\"Title: {publication_with_most_citations['title']}\")\n",
        "print(f\"Number of Citations: {publication_with_most_citations['num_citations']}\")\n"
      ],
      "metadata": {
        "id": "t2GBnXkaPRIb",
        "outputId": "8bfb0934-d585-4ceb-f128-26c8786277fd",
        "colab": {
          "base_uri": "https://localhost:8080/"
        }
      },
      "id": "t2GBnXkaPRIb",
      "execution_count": 16,
      "outputs": [
        {
          "output_type": "stream",
          "name": "stdout",
          "text": [
            "\n",
            "Publication with the largest number of citations:\n",
            "Title: INFORMS Journal on Computing\n",
            "Number of Citations: 938039\n"
          ]
        }
      ]
    },
    {
      "cell_type": "code",
      "source": [
        "import matplotlib.pyplot as plt\n",
        "\n",
        "# Plot histogram for number of references\n",
        "plt.figure(figsize=(10, 6))\n",
        "plt.hist(df['num_references'], bins=50, log=True)\n",
        "plt.xlabel('Number of References per Publication')\n",
        "plt.ylabel('Number of Publications (log scale)')\n",
        "plt.title('Histogram of References per Publication')\n",
        "plt.grid(True)\n",
        "plt.show()\n",
        "\n",
        "# Plot histogram for number of citations\n",
        "plt.figure(figsize=(10, 6))\n",
        "plt.hist(df['num_citations'], bins=50, log=True)\n",
        "plt.xlabel('Number of Citations per Publication')\n",
        "plt.ylabel('Number of Publications (log scale)')\n",
        "plt.title('Histogram of Citations per Publication')\n",
        "plt.grid(True)\n",
        "plt.show()"
      ],
      "metadata": {
        "id": "6FJb75e36FD7",
        "outputId": "607dc128-f852-4873-cc53-550df66c0421",
        "colab": {
          "base_uri": "https://localhost:8080/",
          "height": 1000
        }
      },
      "id": "6FJb75e36FD7",
      "execution_count": 19,
      "outputs": [
        {
          "output_type": "display_data",
          "data": {
            "text/plain": [
              "<Figure size 1000x600 with 1 Axes>"
            ],
            "image/png": "[encoded data removed]"
          },
          "metadata": {}
        },
        {
          "output_type": "display_data",
          "data": {
            "text/plain": [
              "<Figure size 1000x600 with 1 Axes>"
            ],
            "image/png": "[encoded data removed]"
          },
          "metadata": {}
        }
      ]
    }
  ],
  "metadata": {
    "kernelspec": {
      "display_name": "Python 3",
      "name": "python3"
    },
    "language_info": {
      "codemirror_mode": {
        "name": "ipython",
        "version": 3
      },
      "file_extension": ".py",
      "mimetype": "text/x-python",
      "name": "python",
      "nbconvert_exporter": "python",
      "pygments_lexer": "ipython3",
      "version": "3.10.15"
    },
    "colab": {
      "provenance": [],
      "gpuType": "T4"
    }
  },
  "nbformat": 4,
  "nbformat_minor": 5
}