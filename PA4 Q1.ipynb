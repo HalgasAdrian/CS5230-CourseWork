{
  "cells": [
    {
      "cell_type": "code",
      "source": [
        "!wget -O dataset.zip 'https://lfs.aminer.cn/lab-datasets/citation/acm.v9.zip'\n"
      ],
      "metadata": {
        "colab": {
          "base_uri": "https://localhost:8080/"
        },
        "id": "TnHge5z0mmGC",
        "outputId": "238a466f-b403-4947-c35c-6fa704752b7e"
      },
      "id": "TnHge5z0mmGC",
      "execution_count": 1,
      "outputs": [
        {
          "output_type": "stream",
          "name": "stdout",
          "text": [
            "--2025-01-16 19:56:44--  https://lfs.aminer.cn/lab-datasets/citation/acm.v9.zip\n",
            "Resolving lfs.aminer.cn (lfs.aminer.cn)... 159.27.2.14\n",
            "Connecting to lfs.aminer.cn (lfs.aminer.cn)|159.27.2.14|:443... connected.\n",
            "HTTP request sent, awaiting response... 200 OK\n",
            "Could not parse String-Transport-Security header\n",
            "Length: 686542584 (655M) [application/zip]\n",
            "Saving to: ‘dataset.zip’\n",
            "\n",
            "dataset.zip         100%[===================>] 654.74M  10.3MB/s    in 67s     \n",
            "\n",
            "2025-01-16 19:57:52 (9.81 MB/s) - ‘dataset.zip’ saved [686542584/686542584]\n",
            "\n"
          ]
        }
      ]
    },
    {
      "cell_type": "code",
      "source": [
        "!unzip dataset.zip -d /content/dataset\n"
      ],
      "metadata": {
        "id": "25h2C1QesAGJ",
        "outputId": "4d7dcd22-ecee-4fd6-9f1a-67331ffef916",
        "colab": {
          "base_uri": "https://localhost:8080/"
        }
      },
      "id": "25h2C1QesAGJ",
      "execution_count": 2,
      "outputs": [
        {
          "output_type": "stream",
          "name": "stdout",
          "text": [
            "Archive:  dataset.zip\n",
            "  inflating: /content/dataset/acm.txt  \n"
          ]
        }
      ]
    },
    {
      "cell_type": "code",
      "source": [
        "import pandas as pd\n",
        "\n",
        "# Read a tab-separated file\n",
        "df = pd.read_csv('/content/dataset/acm.txt', sep='\\t')\n",
        "\n",
        "# Preview the first few rows\n",
        "print(df.head())\n"
      ],
      "metadata": {
        "id": "WazAHpXbse9C",
        "outputId": "4695b3fb-7ebd-4363-9267-6bd7cc6e9e84",
        "colab": {
          "base_uri": "https://localhost:8080/"
        }
      },
      "id": "WazAHpXbse9C",
      "execution_count": 4,
      "outputs": [
        {
          "output_type": "stream",
          "name": "stdout",
          "text": [
            "  #*MOSFET table look-up models for circuit simulation\n",
            "0                                             #t1984  \n",
            "1                    #cIntegration, the VLSI Journal  \n",
            "2                                            #index1  \n",
            "3  #*The verification of the protection mechanism...  \n",
            "4                                 #@Virgil D. Gligor  \n"
          ]
        }
      ]
    }
  ],
  "metadata": {
    "kernelspec": {
      "display_name": "Lab1Jack",
      "language": "python",
      "name": "python3"
    },
    "language_info": {
      "codemirror_mode": {
        "name": "ipython",
        "version": 3
      },
      "file_extension": ".py",
      "mimetype": "text/x-python",
      "name": "python",
      "nbconvert_exporter": "python",
      "pygments_lexer": "ipython3",
      "version": "3.10.15"
    },
    "colab": {
      "provenance": []
    }
  },
  "nbformat": 4,
  "nbformat_minor": 5
}